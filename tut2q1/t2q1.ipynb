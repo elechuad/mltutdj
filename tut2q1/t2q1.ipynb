{
  "metadata": {
    "language_info": {
      "codemirror_mode": {
        "name": "python",
        "version": 3
      },
      "file_extension": ".py",
      "mimetype": "text/x-python",
      "name": "python",
      "nbconvert_exporter": "python",
      "pygments_lexer": "ipython3",
      "version": "3.8"
    },
    "kernelspec": {
      "name": "python",
      "display_name": "Python (Pyodide)",
      "language": "python"
    }
  },
  "nbformat_minor": 4,
  "nbformat": 4,
  "cells": [
    {
      "cell_type": "code",
      "source": "print('hello')\n",
      "metadata": {
        "trusted": true
      },
      "execution_count": null,
      "outputs": []
    },
    {
      "cell_type": "code",
      "source": "import pandas as pd\nimport matplotlib.pyplot as plt\n#make sure above is pyplot or include pyplot below\n\ndataframe = pd.read_csv(\"t2q1.csv\")\n\nprint (dataframe['year'])\nprint (dataframe['total_expenditure_on_education'])\n\nexpenditure = dataframe['total_expenditure_on_education'].tolist()\nyear = dataframe['year']\n\nplt.plot(year,expenditure)\n\nplt.xlabel('Year') \nplt.ylabel('Expenditure') \nplt.title('Education Expenditure')\nplt.show() \n\n",
      "metadata": {
        "trusted": true
      },
      "execution_count": null,
      "outputs": []
    },
    {
      "cell_type": "code",
      "source": "",
      "metadata": {},
      "execution_count": null,
      "outputs": []
    }
  ]
}