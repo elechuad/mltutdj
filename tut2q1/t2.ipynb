{
 "cells": [
  {
   "cell_type": "markdown",
   "metadata": {},
   "source": [
    "# EE2211 Tutorial 2 \n",
    "\n",
    "### by Chua Dingjuan (Aug 2022)"
   ]
  },
  {
   "cell_type": "markdown",
   "metadata": {},
   "source": [
    "## Question 1 Python Codes"
   ]
  },
  {
   "cell_type": "code",
   "execution_count": null,
   "metadata": {},
   "outputs": [],
   "source": [
    "#Importing Libraries pandas and matplotlib\n",
    "\n",
    "import pandas as pd\n",
    "import matplotlib.pyplot as plt\n",
    "#make sure above is pyplot or include pyplot below"
   ]
  },
  {
   "cell_type": "code",
   "execution_count": null,
   "metadata": {},
   "outputs": [],
   "source": [
    "#Loading contents of the csv file into a variable named dataframe\n",
    "#Do note that the file was rename. \n",
    "#Original name of the file is government-expenditure-on-education.csv\n",
    "\n",
    "dataframe = pd.read_csv(\"t2q1.csv\")"
   ]
  },
  {
   "cell_type": "code",
   "execution_count": null,
   "metadata": {},
   "outputs": [],
   "source": [
    "#How do we extract columns of data? As below.\n",
    "\n",
    "print (dataframe['year'])\n",
    "print (dataframe['total_expenditure_on_education'])"
   ]
  },
  {
   "cell_type": "code",
   "execution_count": null,
   "metadata": {},
   "outputs": [],
   "source": [
    "#The .tolist() function convers the series data type into the standard list type\n",
    "\n",
    "print (dataframe['total_expenditure_on_education'].tolist())"
   ]
  },
  {
   "cell_type": "code",
   "execution_count": null,
   "metadata": {},
   "outputs": [],
   "source": [
    "#Notice below that expenditure is list type and year is series type\n",
    "expenditure = dataframe['total_expenditure_on_education'].tolist()\n",
    "year = dataframe['year']\n",
    "\n",
    "# Plotting accepts data in both list or series types\n",
    "plt.plot(year,expenditure)\n",
    "\n",
    "# Plotting titles, axes labels \n",
    "plt.xlabel('Year') \n",
    "plt.ylabel('Expenditure') \n",
    "plt.title('Education Expenditure')\n",
    "\n",
    "# The command below is required in certain IDEs. Eg. IDLE\n",
    "plt.show() "
   ]
  }
 ],
 "metadata": {
  "kernelspec": {
   "display_name": "Python 3 (ipykernel)",
   "language": "python",
   "name": "python3"
  },
  "language_info": {
   "codemirror_mode": {
    "name": "ipython",
    "version": 3
   },
   "file_extension": ".py",
   "mimetype": "text/x-python",
   "name": "python",
   "nbconvert_exporter": "python",
   "pygments_lexer": "ipython3",
   "version": "3.9.6"
  }
 },
 "nbformat": 4,
 "nbformat_minor": 4
}
