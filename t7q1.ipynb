{
 "cells": [
  {
   "cell_type": "markdown",
   "metadata": {},
   "source": [
    "# EE2211 Tutorial 7\n",
    "\n",
    "### by Chua Dingjuan (Oct 2022)"
   ]
  },
  {
   "cell_type": "markdown",
   "metadata": {},
   "source": [
    "## Question 1 Python Codes"
   ]
  },
  {
   "cell_type": "code",
   "execution_count": 1,
   "metadata": {},
   "outputs": [
    {
     "name": "stdout",
     "output_type": "stream",
     "text": [
      "Pearson correlation values are :  0.5987722845227617 0.4536921850899784 0.8008916458435771\n"
     ]
    }
   ],
   "source": [
    "import numpy as np\n",
    "\n",
    "x1 = np.array([0.3510, 2.1812, 0.2415, -0.1096, 0.1544])\n",
    "x2 = np.array([1.1796, 2.1068, 1.7753, 1.2747, 2.0851])\n",
    "x3 = np.array([-0.9852, 1.3766, -1.3244, -0.6316, -0.8320])\n",
    "y=np.array([0.2758, 1.4392, -0.4611, 0.6154, 1.0006])\n",
    "\n",
    "\n",
    "#corrcoef() returns the correlation matrix, which is a two-dimensional array\n",
    "#with the correlation coefficients.\n",
    "#here, corrcoef(x1,y) returns correlation of (x1,x1) , then (x1,y), then (y,x1) then (y,y)\n",
    "#we only need either (x1,y) / (y,x1) --> r1[0][1]\n",
    "r1 = np.corrcoef(x1,y)\n",
    "r2 = np.corrcoef(x2,y)\n",
    "r3 = np.corrcoef(x3,y)\n",
    "\n",
    "print('Pearson correlation values are : ', r1[0][1], r2[0][1], r3[0][1])"
   ]
  },
  {
   "cell_type": "code",
   "execution_count": null,
   "metadata": {},
   "outputs": [],
   "source": []
  }
 ],
 "metadata": {
  "kernelspec": {
   "display_name": "Python 3 (ipykernel)",
   "language": "python",
   "name": "python3"
  },
  "language_info": {
   "codemirror_mode": {
    "name": "ipython",
    "version": 3
   },
   "file_extension": ".py",
   "mimetype": "text/x-python",
   "name": "python",
   "nbconvert_exporter": "python",
   "pygments_lexer": "ipython3",
   "version": "3.10.4"
  }
 },
 "nbformat": 4,
 "nbformat_minor": 4
}
