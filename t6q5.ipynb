{
 "cells": [
  {
   "cell_type": "markdown",
   "metadata": {},
   "source": [
    "# EE2211 Tutorial 6\n",
    "\n",
    "### by Chua Dingjuan (Sept 2022)"
   ]
  },
  {
   "cell_type": "markdown",
   "metadata": {},
   "source": [
    "## Question 5 Python Codes"
   ]
  },
  {
   "cell_type": "code",
   "execution_count": 1,
   "metadata": {},
   "outputs": [],
   "source": [
    "import numpy as np\n",
    "from numpy.linalg import inv "
   ]
  },
  {
   "cell_type": "markdown",
   "metadata": {},
   "source": [
    "### 5(a) Predict the class label for {𝑥 = −0.1} and {𝑥 = 0.4} based on linear regression towards a one-hot encoded target."
   ]
  },
  {
   "cell_type": "code",
   "execution_count": 6,
   "metadata": {},
   "outputs": [
    {
     "name": "stdout",
     "output_type": "stream",
     "text": [
      "X is : \n",
      " [[ 1.  -1. ]\n",
      " [ 1.   0. ]\n",
      " [ 1.   0.5]\n",
      " [ 1.   0.3]\n",
      " [ 1.   0.8]]\n",
      "w is : \n",
      " [[ 0.47798742  0.33333333  0.18867925]\n",
      " [-0.64989518  0.55555556  0.09433962]]\n",
      "y_predict is : \n",
      " [[0.54297694 0.27777778 0.17924528]\n",
      " [0.21802935 0.55555556 0.22641509]]\n"
     ]
    }
   ],
   "source": [
    "#-- Q5A -- #\n",
    "\n",
    "x = np.array([[-1, 0, 0.5, 0.3, 0.8]]).T\n",
    "Y = np.array([[1,0,0], [1,0,0], [0,1,0], [0,0,1], [0,1,0]])\n",
    "\n",
    "X = np.column_stack((np.ones(len(x)),x))\n",
    "\n",
    "print('X is : \\n', X)\n",
    "\n",
    "w = inv(X.T @ X) @ X.T @ Y \n",
    "\n",
    "print('w is : \\n', w)\n",
    "\n",
    "xtest = np.array([[-0.1, 0.4]]).T\n",
    "Xtest = np.column_stack((np.ones(len(xtest)),xtest))\n",
    "\n",
    "y_predict= Xtest @ w\n",
    "\n",
    "print('y_predict is : \\n', y_predict)\n"
   ]
  },
  {
   "cell_type": "code",
   "execution_count": 7,
   "metadata": {},
   "outputs": [
    {
     "name": "stdout",
     "output_type": "stream",
     "text": [
      "y_class_predict is : \n",
      " [[1, 0, 0], [0, 1, 0]]\n",
      "y_class_predict1 is : \n",
      " [0 1]\n"
     ]
    }
   ],
   "source": [
    "#The following two pieces of codes both returns argmax, but in different formats. \n",
    "#Option 1 returns the output directly in one-hot encoding\n",
    "\n",
    "#Creates an array which returns argmax\n",
    "y_class_predict = [[1 if y == max(x) else 0 for y in x] for x in y_predict ]\n",
    "print('y_class_predict is : \\n', y_class_predict)\n",
    "\n",
    "#Option 2 returns the output not in one-hot encoding\n",
    "#Alternative code below returns the argmax values per row\n",
    "y_class_predict1 = np.argmax(y_predict,axis=1)\n",
    "print('y_class_predict1 is : \\n', y_class_predict1)\n"
   ]
  },
  {
   "cell_type": "markdown",
   "metadata": {},
   "source": [
    "### 5(b) Predict the class label for {𝑥 = −0.1} and { 𝑥 = 0.4} using a polynomial model of 5th order and a one-hot encoded target."
   ]
  },
  {
   "cell_type": "code",
   "execution_count": 8,
   "metadata": {},
   "outputs": [
    {
     "name": "stdout",
     "output_type": "stream",
     "text": [
      "P is : \n",
      " [[ 1.      -1.       1.      -1.       1.      -1.     ]\n",
      " [ 1.       0.       0.       0.       0.       0.     ]\n",
      " [ 1.       0.5      0.25     0.125    0.0625   0.03125]\n",
      " [ 1.       0.3      0.09     0.027    0.0081   0.00243]\n",
      " [ 1.       0.8      0.64     0.512    0.4096   0.32768]]\n",
      "w is : \n",
      " [[ 1.00000000e+00  1.77635684e-13 -3.41060513e-13]\n",
      " [-5.30313768e+00 -3.70234958e+00  9.00548727e+00]\n",
      " [ 5.21976232e+00  1.08728407e+01 -1.60926030e+01]\n",
      " [ 6.66624941e+00  9.46978846e+00 -1.61360379e+01]\n",
      " [-6.47651463e+00 -1.29098961e+01  1.93864107e+01]\n",
      " [-2.61986403e+00 -7.80449422e+00  1.04243583e+01]]\n"
     ]
    }
   ],
   "source": [
    "## Polynomial regression\n",
    "from sklearn.preprocessing import PolynomialFeatures as skpf\n",
    "\n",
    "x = np.array([[-1, 0, 0.5, 0.3, 0.8]]).T\n",
    "xtest = np.array([[-0.1, 0.4]]).T\n",
    "\n",
    "polyfn = skpf(5)\n",
    "P=polyfn.fit_transform(x)\n",
    "\n",
    "print('P is : \\n', P)\n",
    "\n",
    "wp = P.T @ inv(P @ P.T) @ Y\n",
    "\n",
    "\n",
    "print('w is : \\n', wp)"
   ]
  },
  {
   "cell_type": "code",
   "execution_count": 9,
   "metadata": {},
   "outputs": [
    {
     "name": "stdout",
     "output_type": "stream",
     "text": [
      "y_predict is : \n",
      " [[ 1.57522369  0.46828063 -1.04350432]\n",
      " [-0.05207932  0.45436978  0.59770954]]\n",
      "y_class_predict is : \n",
      " [0 2]\n"
     ]
    }
   ],
   "source": [
    "#Creating P matrices for Testing Data\n",
    "Ptest = polyfn.fit_transform(xtest)\n",
    "\n",
    "y_predict = Ptest @ wp\n",
    "print('y_predict is : \\n', y_predict)\n",
    "\n",
    "#The np.argmax function returns the argument for the maximum value (arg of max)\n",
    "#For the first row of y_predict, the largest value is the first element, index 0\n",
    "#For the second row of y_predict, the largest value is the theird element, index 2 \n",
    "#Therefore final value is [0 2]\n",
    "#In argmax, axis=1 is required so that it returns the arg for each row of y_predict\n",
    "\n",
    "y_class_predict = np.argmax(y_predict,axis=1)\n",
    "print('y_class_predict is : \\n', y_class_predict)"
   ]
  },
  {
   "cell_type": "code",
   "execution_count": 10,
   "metadata": {},
   "outputs": [
    {
     "data": {
      "text/plain": [
       "array([[1., 0., 0.],\n",
       "       [0., 0., 1.]])"
      ]
     },
     "execution_count": 10,
     "metadata": {},
     "output_type": "execute_result"
    }
   ],
   "source": [
    "#After we find the class of the predicted output, we need to encode it in one-hot format\n",
    "#This can be done by using sklearn OneHotEncoder function\n",
    "\n",
    "from sklearn.preprocessing import OneHotEncoder\n",
    "enc=OneHotEncoder(categories=[[0,1,2]],sparse=False)\n",
    "tmp = y_class_predict.reshape((len(y_class_predict),1))\n",
    "enc.fit_transform(tmp)"
   ]
  },
  {
   "cell_type": "code",
   "execution_count": null,
   "metadata": {},
   "outputs": [],
   "source": []
  }
 ],
 "metadata": {
  "kernelspec": {
   "display_name": "Python 3 (ipykernel)",
   "language": "python",
   "name": "python3"
  },
  "language_info": {
   "codemirror_mode": {
    "name": "ipython",
    "version": 3
   },
   "file_extension": ".py",
   "mimetype": "text/x-python",
   "name": "python",
   "nbconvert_exporter": "python",
   "pygments_lexer": "ipython3",
   "version": "3.10.4"
  }
 },
 "nbformat": 4,
 "nbformat_minor": 4
}
