{
 "cells": [
  {
   "cell_type": "markdown",
   "id": "38d88fce-4df9-4daf-ba0c-d94e6d544c9c",
   "metadata": {},
   "source": [
    "# EE2211 Tutorial 5\n",
    "\n",
    "### by Chua Dingjuan (Sep 2022)"
   ]
  },
  {
   "cell_type": "markdown",
   "id": "60d08d32-df84-4abd-8f6c-728a4d88a431",
   "metadata": {},
   "source": [
    "## Question 5 Python Codes"
   ]
  },
  {
   "cell_type": "code",
   "execution_count": null,
   "id": "fc512376-9dca-48c4-935e-11eeaf5e55db",
   "metadata": {},
   "outputs": [],
   "source": [
    "import numpy as np\n",
    "import pandas as pd\n",
    "import matplotlib.pyplot as plt\n",
    "\n",
    "#Extract year and expenditure data from csv file\n",
    "df = pd.read_csv(\"government-expenditure-on-education.csv\")\n",
    "expenditureList = df ['total_expenditure_on_education'].tolist()\n",
    "yearList = df ['year'].tolist()"
   ]
  },
  {
   "cell_type": "code",
   "execution_count": null,
   "id": "8cd19641-6095-4bd9-895d-4580995fb74c",
   "metadata": {},
   "outputs": [],
   "source": [
    "#Creating the numpy arrays\n",
    "\n",
    "#Adding a column of ones to the year data (x data).\n",
    "#You can also use np.ones() and hstack to do the following.\n",
    "m_list = [[1]*len(yearList), yearList]\n",
    "\n",
    "print(m_list)\n",
    "print(np.array(m_list).shape)"
   ]
  },
  {
   "cell_type": "code",
   "execution_count": null,
   "id": "7b34e62c-e9c4-4d4b-847d-bda0e157e428",
   "metadata": {},
   "outputs": [],
   "source": [
    "#Transpose required, else a row vector is created instead of a column vector\n",
    "X = np.array(m_list).T\n",
    "\n",
    "print(X)\n"
   ]
  },
  {
   "cell_type": "code",
   "execution_count": null,
   "id": "e9eb8ec5-fd9b-4e40-b5f8-b1f85be45dff",
   "metadata": {},
   "outputs": [],
   "source": [
    "y = np.array(expenditureList)\n",
    "\n",
    "w = np.linalg.inv(X.T @ X) @ X.T @ y\n",
    "print(w)\n",
    "\n",
    "#Creating the y-data points for the regression line\n",
    "y_line = X.dot(w)"
   ]
  },
  {
   "cell_type": "code",
   "execution_count": null,
   "id": "baf35125-ce16-4e7a-a26e-f50adba88923",
   "metadata": {},
   "outputs": [],
   "source": [
    "#Plotting Scatter Plot for data and Linear Regression Line\n",
    "plt.plot(yearList, expenditureList, 'o', label = 'Expenditure over the years')\n",
    "plt.plot(yearList, y_line)\n",
    "plt.xlabel('Year')\n",
    "plt.ylabel('Expenditure')\n",
    "plt.title('Education Expenditure')\n",
    "plt.show()\n",
    "\n",
    "#Calculating the prediction for 2021\n",
    "y_predict = np.array([1, 2021]).dot(w)\n",
    "print(y_predict)\n",
    "\n"
   ]
  },
  {
   "cell_type": "code",
   "execution_count": null,
   "id": "7aa69e6b-5808-427d-8ba3-9f579217697f",
   "metadata": {},
   "outputs": [],
   "source": []
  }
 ],
 "metadata": {
  "kernelspec": {
   "display_name": "Python 3 (ipykernel)",
   "language": "python",
   "name": "python3"
  },
  "language_info": {
   "codemirror_mode": {
    "name": "ipython",
    "version": 3
   },
   "file_extension": ".py",
   "mimetype": "text/x-python",
   "name": "python",
   "nbconvert_exporter": "python",
   "pygments_lexer": "ipython3",
   "version": "3.9.6"
  }
 },
 "nbformat": 4,
 "nbformat_minor": 5
}
