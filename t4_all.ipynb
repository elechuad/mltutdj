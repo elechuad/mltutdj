{
 "cells": [
  {
   "cell_type": "markdown",
   "id": "484d6b4a-b7e9-4200-be5b-95a765fc0c23",
   "metadata": {},
   "source": [
    "# EE2211 Tutorial 4\n",
    "\n",
    "### by Chua Dingjuan (Sep 2022)"
   ]
  },
  {
   "cell_type": "markdown",
   "id": "e3bbd232-b94c-415e-973e-46fdebab8bb4",
   "metadata": {},
   "source": [
    "## Question 1 Python Codes"
   ]
  },
  {
   "cell_type": "code",
   "execution_count": null,
   "id": "228caeb2-fb54-436a-b38f-80173360f82e",
   "metadata": {},
   "outputs": [],
   "source": [
    "import numpy as np\n",
    "\n",
    "m_list = [[1, 1], [3, 4]]\n",
    "X = np.array(m_list)\n",
    "\n",
    "inv_X = np.linalg.inv(X)\n",
    "y = np.array([[0],[1]])\n",
    "#tutorial solutions given as B = np.array([0, 1])\n",
    "\n",
    "deter = np.linalg.det(X)\n",
    "print(deter)\n",
    "\n",
    "w = inv_X.dot(y)\n",
    "\n",
    "w = np.dot(inv_X,y)"
   ]
  },
  {
   "cell_type": "markdown",
   "id": "60ee428a-92f0-4fae-8b8c-caffc002dcea",
   "metadata": {},
   "source": [
    "## Question 2 Python Codes"
   ]
  },
  {
   "cell_type": "code",
   "execution_count": null,
   "id": "63731f38-36db-486a-96cd-c83b8b8be039",
   "metadata": {},
   "outputs": [],
   "source": [
    "import numpy as np\n",
    "m_list = [[1, 2], [2, 4], [1, -1]]\n",
    "X = np.array(m_list)\n",
    "\n",
    "inv_XTX = np.linalg.inv(X.transpose().dot(X))\n",
    "\n",
    "pinv = inv_XTX.dot(X.transpose())\n",
    "\n",
    "y = np.array([[0], [0.1],[1]])\n",
    "\n",
    "w = pinv.dot(y)\n",
    "print(w)\n"
   ]
  },
  {
   "cell_type": "code",
   "execution_count": null,
   "id": "8751cba1-29fa-4803-8e40-5c1887241abb",
   "metadata": {},
   "outputs": [],
   "source": [
    "## ALTERNATIVE CODE\n",
    "import numpy as np\n",
    "from numpy.linalg import inv\n",
    "\n",
    "X = np.array([[1, 2], [2, 4], [1, -1]])\n",
    "y = np.array([[0], [0.1],[1]])\n",
    "\n",
    "w = inv(X.T @ X) @ X.T @ y\n",
    "\n",
    "print(w)"
   ]
  },
  {
   "cell_type": "markdown",
   "id": "2a5be379-e778-498b-aab1-f682f70f7147",
   "metadata": {},
   "source": [
    "## Question 4 Python Codes"
   ]
  },
  {
   "cell_type": "code",
   "execution_count": null,
   "id": "1a7fca98-d728-4bef-888b-9fc818f8b7af",
   "metadata": {},
   "outputs": [],
   "source": [
    "import numpy as np\n",
    "from numpy.linalg import inv\n",
    "\n",
    "X = np.array([[1, 0,1,0], [1,-1,1,-1], [1, 1,0,0]])\n",
    "y = np.array([[1],[0],[1]])\n",
    "\n",
    "det = np.linalg.det(X.dot(X.transpose()))\n",
    "\n",
    "inv_XTX = np.linalg.inv(X.dot(X.transpose()))\n",
    "\n",
    "pinv = X.transpose().dot(inv_XTX)\n",
    "\n",
    "w=pinv.dot(y)\n",
    "\n",
    "print(w)\n"
   ]
  },
  {
   "cell_type": "markdown",
   "id": "4f6443b3-610e-412c-9397-e467f42b4aa0",
   "metadata": {},
   "source": [
    "## Question 6 Python Codes"
   ]
  },
  {
   "cell_type": "code",
   "execution_count": null,
   "id": "406ad6f0-1878-4664-880f-1a505b1e3dd0",
   "metadata": {},
   "outputs": [],
   "source": [
    "import numpy as np\n",
    "from numpy.linalg import inv\n",
    "\n",
    "X = np.array([[1,2], [2,4], [1,-1]])\n",
    "y = np.array([0,1])\n",
    "\n",
    "w = y.T @ inv(X.T @ X) @ X.T \n",
    "\n",
    "print(w)\n"
   ]
  },
  {
   "cell_type": "code",
   "execution_count": null,
   "id": "82b7c41c-fb74-42cf-9a98-8dcdac72021e",
   "metadata": {},
   "outputs": [],
   "source": []
  }
 ],
 "metadata": {
  "kernelspec": {
   "display_name": "Python 3 (ipykernel)",
   "language": "python",
   "name": "python3"
  },
  "language_info": {
   "codemirror_mode": {
    "name": "ipython",
    "version": 3
   },
   "file_extension": ".py",
   "mimetype": "text/x-python",
   "name": "python",
   "nbconvert_exporter": "python",
   "pygments_lexer": "ipython3",
   "version": "3.9.6"
  }
 },
 "nbformat": 4,
 "nbformat_minor": 5
}
