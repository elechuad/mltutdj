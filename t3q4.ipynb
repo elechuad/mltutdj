{
 "cells": [
  {
   "cell_type": "markdown",
   "id": "64169735-144e-4aa0-9b8b-283de0ee2e79",
   "metadata": {},
   "source": [
    "# EE2211 Tutorial 3\n",
    "\n",
    "### by Chua Dingjuan (Aug 2022)"
   ]
  },
  {
   "cell_type": "markdown",
   "id": "596b4dde-6050-4600-865c-853bbad47282",
   "metadata": {},
   "source": [
    "## Question 4 Python Codes"
   ]
  },
  {
   "cell_type": "markdown",
   "id": "f82f1010-8cf4-495b-bdd4-3624ad43f162",
   "metadata": {},
   "source": [
    "\n",
    "#### (a) What is the probability that the sum of the dice equals seven?\n",
    "#### i. List out all pairs of possible outcomes together with their sums from the two throws. (hint: enumerate all the items in range(1,7))\n"
   ]
  },
  {
   "cell_type": "code",
   "execution_count": null,
   "id": "723e14cf-eafa-4e7a-8a59-26eb954293c9",
   "metadata": {},
   "outputs": [],
   "source": [
    "#(i)\n",
    "\n",
    "d={(i,j):i+j for i in range(1,7) for j in range(1,7)}\n"
   ]
  },
  {
   "cell_type": "code",
   "execution_count": null,
   "id": "07a8cf08-77b1-4fd2-878e-15e79de99bae",
   "metadata": {},
   "outputs": [],
   "source": [
    "print(d)"
   ]
  },
  {
   "cell_type": "markdown",
   "id": "49011510-5a31-450c-bd93-b5e239766621",
   "metadata": {},
   "source": [
    "\n",
    "#### ii. Collect all of the (a, b) pairs that sum to each of the possible values from two to twelve (including the sum equals seven). (hint: use dictionary from collections import defaultdict to collect all of the (a, b) pairs that sum to each of the possible values from two to twelve)    \n",
    "\n"
   ]
  },
  {
   "cell_type": "code",
   "execution_count": null,
   "id": "75442f44-67ed-4182-b8d4-093a85320c6f",
   "metadata": {},
   "outputs": [],
   "source": [
    "#(ii) collect all of the (a, b) pairs that sum to each of the possible values from two to twelve\n",
    "\n",
    "from collections import defaultdict\n",
    "dinv = defaultdict(list)\n",
    "\n",
    "for i,j in d.items(): dinv[j].append(i)\n"
   ]
  },
  {
   "cell_type": "code",
   "execution_count": null,
   "id": "a501261b-f0a9-4ceb-a291-5e6f90ed5cd7",
   "metadata": {},
   "outputs": [],
   "source": [
    "for i,j in d.items(): print (i)\n",
    "#for i,j in d.items(): print (j)"
   ]
  },
  {
   "cell_type": "code",
   "execution_count": null,
   "id": "1cc0ce6b-21bb-4454-9276-947177bd8a26",
   "metadata": {},
   "outputs": [],
   "source": [
    "print(dinv)"
   ]
  },
  {
   "cell_type": "code",
   "execution_count": null,
   "id": "10af225a-15a9-4f0f-b2b0-0abfe221ebea",
   "metadata": {},
   "outputs": [],
   "source": [
    "# Compute the probability measured for each sum. This includes for sum = 7\n",
    "\n",
    "X={i:len(j)/36. for i,j in dinv.items() }\n",
    "\n",
    "print(X)"
   ]
  },
  {
   "cell_type": "markdown",
   "id": "41fb8bd7-3c90-417a-bebb-82574513faf3",
   "metadata": {},
   "source": [
    "#### (b) What is the probability that half the product of three dice will exceed their sum?\n"
   ]
  },
  {
   "cell_type": "code",
   "execution_count": null,
   "id": "0aee1877-cffc-4283-8fce-fd3f889b1873",
   "metadata": {},
   "outputs": [],
   "source": [
    "\n",
    "d={(i,j,k):((i*j*k)/2>i+j+k) for i in range(1,7)\n",
    "                                for j in range(1,7)\n",
    "                                    for k in range(1,7)}"
   ]
  },
  {
   "cell_type": "code",
   "execution_count": null,
   "id": "d7e66059-b43a-4263-84d3-200096576c1e",
   "metadata": {},
   "outputs": [],
   "source": [
    "dinv = defaultdict(list)\n",
    "for i,j in d.items(): dinv[j].append(i)"
   ]
  },
  {
   "cell_type": "code",
   "execution_count": null,
   "id": "26337e37-5b16-4fcf-b479-e00e98e8dd55",
   "metadata": {},
   "outputs": [],
   "source": [
    "X={i:len(j)/6.0**3 for i,j in dinv.items() }\n",
    "print(X)"
   ]
  },
  {
   "cell_type": "code",
   "execution_count": null,
   "id": "6371ae2f-256e-453e-ad0e-e9713144ed20",
   "metadata": {},
   "outputs": [],
   "source": []
  }
 ],
 "metadata": {
  "kernelspec": {
   "display_name": "Python 3 (ipykernel)",
   "language": "python",
   "name": "python3"
  },
  "language_info": {
   "codemirror_mode": {
    "name": "ipython",
    "version": 3
   },
   "file_extension": ".py",
   "mimetype": "text/x-python",
   "name": "python",
   "nbconvert_exporter": "python",
   "pygments_lexer": "ipython3",
   "version": "3.9.6"
  }
 },
 "nbformat": 4,
 "nbformat_minor": 5
}
