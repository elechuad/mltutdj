{
 "cells": [
  {
   "cell_type": "markdown",
   "id": "abe3aa2f-d93e-4099-8e58-69633cedeed1",
   "metadata": {},
   "source": [
    "# EE2211 Tutorial 3\n",
    "\n",
    "### by Chua Dingjuan (Aug 2022)"
   ]
  },
  {
   "cell_type": "markdown",
   "id": "ac34e213-18ca-4f3a-b034-5785fb3eac02",
   "metadata": {},
   "source": [
    "## Question 5 Python Codes"
   ]
  },
  {
   "cell_type": "code",
   "execution_count": null,
   "id": "f585f4cf-a3a2-4ca4-9d68-82cac45affea",
   "metadata": {},
   "outputs": [],
   "source": [
    "from scipy import stats\n",
    "#80 continuous random variables (RVs) and 10 discrete random variables "
   ]
  },
  {
   "cell_type": "code",
   "execution_count": null,
   "id": "6c12f175-cc01-46c2-9c86-4a27b6304b5e",
   "metadata": {},
   "outputs": [],
   "source": [
    "# define constants\n",
    "\n",
    "mu = 30 # mean = 30Ω\n",
    "sigma = 1.8 # standard deviation = 1.8Ω\n",
    "x1 = 28 # lower bound = 28Ω\n",
    "x2 = 33 # upper bound = 33Ω"
   ]
  },
  {
   "cell_type": "code",
   "execution_count": null,
   "id": "a70678ad-b200-4108-a09f-94e6db31af72",
   "metadata": {},
   "outputs": [],
   "source": [
    "# calculate probability from Z=0 to lower bound\n",
    "\n",
    "p_lower = stats.norm.cdf(x1,mu,sigma)"
   ]
  },
  {
   "cell_type": "code",
   "execution_count": null,
   "id": "5c99a2d9-9196-434a-808c-e514391f25f5",
   "metadata": {},
   "outputs": [],
   "source": [
    "# calculate probability from Z=0 to upper bound\n",
    "\n",
    "p_upper = stats.norm.cdf(x2,mu,sigma)"
   ]
  },
  {
   "cell_type": "code",
   "execution_count": null,
   "id": "1ce84ddb-5ce8-4572-8d14-085faae13207",
   "metadata": {},
   "outputs": [],
   "source": [
    "# probability of the interval\n",
    "\n",
    "Prob = (p_upper) - (p_lower)"
   ]
  },
  {
   "cell_type": "code",
   "execution_count": null,
   "id": "cfaa8112-bd8a-4679-8c18-a56febb37955",
   "metadata": {},
   "outputs": [],
   "source": [
    "# print the results\n",
    "print('\\n')\n",
    "print(f'Normal distribution: mean = {mu}, std dev = {sigma} \\n')\n",
    "print(f'Probability of occurring between {x1} and {x2}: ')\n",
    "print(f'--> inside interval Pin = {round(Prob*100,1)}%')\n",
    "print(f'--> outside interval Pout = {round((1-Prob)*100,1)}% \\n')\n",
    "print('\\n')"
   ]
  },
  {
   "cell_type": "code",
   "execution_count": null,
   "id": "7c582b0d-4544-4c92-be21-9a6f0d5fcf8f",
   "metadata": {},
   "outputs": [],
   "source": [
    "print(p_lower)"
   ]
  },
  {
   "cell_type": "code",
   "execution_count": null,
   "id": "2192fb21-884b-40f1-82b3-f4bdc1831669",
   "metadata": {},
   "outputs": [],
   "source": [
    "print(p_upper)"
   ]
  },
  {
   "cell_type": "code",
   "execution_count": null,
   "id": "295dab60-a09d-4cb5-adcb-d73d5ad70a38",
   "metadata": {},
   "outputs": [],
   "source": [
    "print(Prob)"
   ]
  },
  {
   "cell_type": "code",
   "execution_count": null,
   "id": "6a6d58f9-3e39-4afa-a2fc-9535ee8d9007",
   "metadata": {},
   "outputs": [],
   "source": []
  }
 ],
 "metadata": {
  "kernelspec": {
   "display_name": "Python 3 (ipykernel)",
   "language": "python",
   "name": "python3"
  },
  "language_info": {
   "codemirror_mode": {
    "name": "ipython",
    "version": 3
   },
   "file_extension": ".py",
   "mimetype": "text/x-python",
   "name": "python",
   "nbconvert_exporter": "python",
   "pygments_lexer": "ipython3",
   "version": "3.9.6"
  }
 },
 "nbformat": 4,
 "nbformat_minor": 5
}
