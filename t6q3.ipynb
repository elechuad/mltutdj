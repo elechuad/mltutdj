{
 "cells": [
  {
   "cell_type": "markdown",
   "metadata": {},
   "source": [
    "# EE2211 Tutorial 6\n",
    "\n",
    "### by Chua Dingjuan (Sept 2022)"
   ]
  },
  {
   "cell_type": "markdown",
   "metadata": {},
   "source": [
    "## Question 3 Python Codes"
   ]
  },
  {
   "cell_type": "code",
   "execution_count": 1,
   "metadata": {},
   "outputs": [],
   "source": [
    "import numpy as np\n",
    "from numpy.linalg import inv \n",
    "from sklearn.preprocessing import PolynomialFeatures as skpf"
   ]
  },
  {
   "cell_type": "code",
   "execution_count": 3,
   "metadata": {},
   "outputs": [
    {
     "name": "stdout",
     "output_type": "stream",
     "text": [
      "P is : \n",
      " [[ 1.  1.  0.  1.  1.  0.  1.  0.  0.  1.  1.  0.  1.  0.  0.  1.  0.  0.\n",
      "   0.  1.]\n",
      " [ 1.  1. -1.  1.  1. -1.  1.  1. -1.  1.  1. -1.  1.  1. -1.  1. -1.  1.\n",
      "  -1.  1.]]\n"
     ]
    }
   ],
   "source": [
    "#Creating x input array\n",
    "x = np.array( [[ 1, 0, 1 ] , [ 1, -1, 1 ]] )\n",
    "\n",
    "\n",
    "# Using the PolynomialFeatures function, creating polynomial function of order 3\n",
    "polyfn = skpf(3)\n",
    "\n",
    "# Fitting the function to my x values to generate P matrix\n",
    "P=polyfn.fit_transform(x)\n",
    "\n",
    "print('P is : \\n', P)"
   ]
  },
  {
   "cell_type": "code",
   "execution_count": 4,
   "metadata": {},
   "outputs": [
    {
     "name": "stdout",
     "output_type": "stream",
     "text": [
      "w is \n",
      " [[ 0. ]\n",
      " [ 0. ]\n",
      " [-0.1]\n",
      " [ 0. ]\n",
      " [ 0. ]\n",
      " [-0.1]\n",
      " [ 0. ]\n",
      " [ 0.1]\n",
      " [-0.1]\n",
      " [ 0. ]\n",
      " [ 0. ]\n",
      " [-0.1]\n",
      " [ 0. ]\n",
      " [ 0.1]\n",
      " [-0.1]\n",
      " [ 0. ]\n",
      " [-0.1]\n",
      " [ 0.1]\n",
      " [-0.1]\n",
      " [ 0. ]]\n",
      "With ridge regression w is \n",
      " [[ 9.99959639e-07]\n",
      " [ 9.99966005e-07]\n",
      " [-9.99980001e-02]\n",
      " [ 9.99970894e-07]\n",
      " [ 9.99969188e-07]\n",
      " [-9.99980001e-02]\n",
      " [ 9.99969075e-07]\n",
      " [ 9.99980000e-02]\n",
      " [-9.99980001e-02]\n",
      " [ 9.99971348e-07]\n",
      " [ 9.99969302e-07]\n",
      " [-9.99980000e-02]\n",
      " [ 9.99968165e-07]\n",
      " [ 9.99980001e-02]\n",
      " [-9.99980000e-02]\n",
      " [ 9.99969075e-07]\n",
      " [-9.99980001e-02]\n",
      " [ 9.99980000e-02]\n",
      " [-9.99980000e-02]\n",
      " [ 9.99967597e-07]]\n"
     ]
    }
   ],
   "source": [
    "\n",
    "y = np.array( [[0] ,[1]] )\n",
    "\n",
    "#Solving for w\n",
    "w = P.T @ inv(P @ P.T) @ y\n",
    "\n",
    "print('w is \\n', w)\n",
    "\n",
    "#Applying Ridge Regression\n",
    "ridge = 0.0001\n",
    "\n",
    "w_ridge = inv(P.T @ P + ridge*np.identity(len(P.T))) @ P.T @ y \n",
    "\n",
    "print('With ridge regression w is \\n', w_ridge)"
   ]
  },
  {
   "cell_type": "code",
   "execution_count": null,
   "metadata": {},
   "outputs": [],
   "source": []
  }
 ],
 "metadata": {
  "kernelspec": {
   "display_name": "Python 3 (ipykernel)",
   "language": "python",
   "name": "python3"
  },
  "language_info": {
   "codemirror_mode": {
    "name": "ipython",
    "version": 3
   },
   "file_extension": ".py",
   "mimetype": "text/x-python",
   "name": "python",
   "nbconvert_exporter": "python",
   "pygments_lexer": "ipython3",
   "version": "3.10.4"
  }
 },
 "nbformat": 4,
 "nbformat_minor": 4
}
