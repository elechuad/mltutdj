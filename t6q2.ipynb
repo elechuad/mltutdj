{
 "cells": [
  {
   "cell_type": "markdown",
   "metadata": {},
   "source": [
    "# EE2211 Tutorial 6 \n",
    "\n",
    "### by Chua Dingjuan (Sept 2022)"
   ]
  },
  {
   "cell_type": "markdown",
   "metadata": {},
   "source": [
    "## Question 2 - Note : official solutions do not provide python codes, below are suggested possible python codes. "
   ]
  },
  {
   "cell_type": "markdown",
   "metadata": {},
   "source": [
    "#### 2(a) Perform a 3rd-order polynomial regression and sketch the result of line fitting.\n",
    "\n",
    "#### 2(b) Given a test point { x = 9 } predict y using the polynomial model.\n"
   ]
  },
  {
   "cell_type": "markdown",
   "metadata": {},
   "source": [
    "## Possible Python Solutions as below"
   ]
  },
  {
   "cell_type": "code",
   "execution_count": 1,
   "metadata": {},
   "outputs": [],
   "source": [
    "import numpy as np\n",
    "import matplotlib.pyplot as plt"
   ]
  },
  {
   "cell_type": "markdown",
   "metadata": {},
   "source": [
    "### Q2(a) - SOLUTION v1 - Solving Using scikit (sklearn) PolynomialFeatures function\n"
   ]
  },
  {
   "cell_type": "code",
   "execution_count": 2,
   "metadata": {},
   "outputs": [],
   "source": [
    "# These two lines of code are jupyter specific and install sklearn.\n",
    "\n",
    "# If you already have sklearn (scikit), You do not need to include these codes for running your codes.\n",
    "\n",
    "import sys\n",
    "!{sys.executable} -m pip install -q sklearn "
   ]
  },
  {
   "cell_type": "code",
   "execution_count": 8,
   "metadata": {},
   "outputs": [
    {
     "name": "stdout",
     "output_type": "stream",
     "text": [
      "<class 'sklearn.preprocessing._polynomial.PolynomialFeatures'>\n",
      "\n",
      "P is \n",
      " [[    1.   -10.   100. -1000.]\n",
      " [    1.    -8.    64.  -512.]\n",
      " [    1.    -3.     9.   -27.]\n",
      " [    1.    -1.     1.    -1.]\n",
      " [    1.     2.     4.     8.]\n",
      " [    1.     8.    64.   512.]]\n"
     ]
    }
   ],
   "source": [
    "### Q2(a) - SOLUTION v1 - Solving Using scikit (sklearn) PolynomialFeatures function\n",
    "\n",
    "#Creating two column arrays for x and y\n",
    "x = np.array([[-10, -8, -3, -1,  2,  8]]).T\n",
    "y = np.array([[5, 5, 4, 3, 2, 2]]).T\n",
    "\n",
    "# We will generate polynomial matrix P using the following function from sklearn.preprocessing.PolynomialFeatures\n",
    "# Name of function is PolynomialFeatures\n",
    "# shortcut name skpf\n",
    "from sklearn.preprocessing import PolynomialFeatures as skpf\n",
    "\n",
    "#step 1, create a polynomial function object class with the right degree\n",
    "polyfn = skpf(3)\n",
    "print(type(polyfn))\n",
    "\n",
    "#step 2, fit the polyfn to your actual data\n",
    "#fit_transform will create the P matrix (polynomial coefficients) accordingly\n",
    "P=polyfn.fit_transform(x)\n",
    "\n",
    "print('\\nP is \\n', P) \n"
   ]
  },
  {
   "cell_type": "code",
   "execution_count": 7,
   "metadata": {},
   "outputs": [
    {
     "name": "stdout",
     "output_type": "stream",
     "text": [
      "w is \n",
      " [[ 2.68935636]\n",
      " [-0.37722517]\n",
      " [ 0.01343815]\n",
      " [ 0.00285772]]\n",
      "Predicted y is  [[2.46609771]]\n"
     ]
    }
   ],
   "source": [
    "#Now we can solve for w\n",
    "w = np.linalg.inv(P.T @ P) @ P.T @ y\n",
    "\n",
    "print('w is \\n', w) \n",
    "\n",
    "#(b) Predict y for test point { x = 9 } \n",
    "xt = np.array([[9]]).T\n",
    "testx = polyfn.fit_transform(xt)\n",
    "\n",
    "ypredicted = testx @ w\n",
    "\n",
    "print('Predicted y is ',ypredicted)\n"
   ]
  },
  {
   "cell_type": "markdown",
   "metadata": {},
   "source": [
    "### Q2(a) - SOLUTION v2 - Solving Step by Step"
   ]
  },
  {
   "cell_type": "code",
   "execution_count": null,
   "metadata": {},
   "outputs": [],
   "source": [
    "### Q2(a) - SOLUTION v2 - Solving Step by Step\n",
    "\n",
    "x = np.array([[-10, -8, -3, -1,  2,  8]]).T\n",
    "y = np.array([[5, 5, 4, 3, 2, 2]]).T\n",
    "\n",
    "P = np.column_stack((np.ones(len(x)),x,x*x,x**3))\n",
    "\n",
    "w = np.linalg.inv(P.T @ P) @ P.T @ y\n",
    "print('w is \\n', w) \n",
    "\n",
    "xt = np.array([[9]]).T\n",
    "\n",
    "testx = np.column_stack((np.ones(len(xt)),xt,xt*xt,xt**3))\n",
    "\n",
    "ypredicted = testx @ w\n",
    "print('Predicted y is ',ypredicted)"
   ]
  },
  {
   "cell_type": "markdown",
   "metadata": {},
   "source": [
    "### Q2(a) - SOLUTION v3 - using polyfit function within numpy"
   ]
  },
  {
   "cell_type": "code",
   "execution_count": null,
   "metadata": {},
   "outputs": [],
   "source": [
    "### Q2(a) - SOLUTION v3 - using polyfit function within numpy\n",
    "\n",
    "#Creating x and y arrays\n",
    "x = np.array([-10, -8, -3, -1,  2,  8])\n",
    "y = np.array([5, 5, 4, 3, 2, 2])\n",
    "\n",
    "# polyfit functions calculates the coefficients of the polynomial fit based on least squares\n",
    "# np.polyfit (x matrix, y matrix, degree of polynomial)\n",
    "# z contains the coefficients of the polynomial (eg. w values)\n",
    "\n",
    "z = np.polyfit(x, y, 3) #NOTE that the z values are from highest order to lowest order\n",
    "\n",
    "print('z is \\n', z)\n",
    "\n",
    "#To find out the predicted value of y for x = 9, you can \n",
    "model = np.poly1d(z)    #create a polynomial model using the coefficients in z\n",
    "ypredicted = model(9)   #call the model and just substitute x=9\n",
    "print('Predicted y is ',ypredicted)"
   ]
  },
  {
   "cell_type": "markdown",
   "metadata": {},
   "source": [
    "## Plotting the curve for visualization!"
   ]
  },
  {
   "cell_type": "code",
   "execution_count": null,
   "metadata": {},
   "outputs": [],
   "source": [
    "\n",
    "#--- Plotting---#\n",
    "plt.plot(x,y,'bo')\n",
    "xline= np.arange(min(x),max(x),0.1)\n",
    "yline=model(xline)\n",
    "\n",
    "plt.plot(xline,yline)\n",
    "plt.show()\n"
   ]
  },
  {
   "cell_type": "markdown",
   "metadata": {},
   "source": [
    "## Q2(c) - Compare this prediction with that of a linear regression"
   ]
  },
  {
   "cell_type": "code",
   "execution_count": null,
   "metadata": {},
   "outputs": [],
   "source": [
    "x = np.array([[-10, -8, -3, -1,  2,  8]]).T\n",
    "y = np.array([[5, 5, 4, 3, 2, 2]]).T\n",
    "\n",
    "X = np.column_stack((np.ones((len(x),1)), x))\n",
    "\n",
    "w = np.linalg.inv(X.T @ X) @ X.T @ y\n",
    "\n",
    "ylinear = np.array([1 , 9]) @ w\n",
    "\n",
    "print(ylinear)"
   ]
  },
  {
   "cell_type": "code",
   "execution_count": null,
   "metadata": {},
   "outputs": [],
   "source": [
    "# Other interesting functions\n",
    "\n",
    "#P = polygen.polyvander(x,3)\n",
    "#testx = polygen.polyvander(testxvalue,3)\n"
   ]
  }
 ],
 "metadata": {
  "kernelspec": {
   "display_name": "Python 3 (ipykernel)",
   "language": "python",
   "name": "python3"
  },
  "language_info": {
   "codemirror_mode": {
    "name": "ipython",
    "version": 3
   },
   "file_extension": ".py",
   "mimetype": "text/x-python",
   "name": "python",
   "nbconvert_exporter": "python",
   "pygments_lexer": "ipython3",
   "version": "3.10.4"
  }
 },
 "nbformat": 4,
 "nbformat_minor": 4
}
