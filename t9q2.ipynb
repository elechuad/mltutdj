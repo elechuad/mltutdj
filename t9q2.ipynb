{
 "cells": [
  {
   "cell_type": "markdown",
   "metadata": {},
   "source": [
    "# EE2211 Tutorial 9\n",
    "\n",
    "### by Chua Dingjuan (Oct 2022)"
   ]
  },
  {
   "cell_type": "markdown",
   "metadata": {},
   "source": [
    "## Question 2 Python Codes"
   ]
  },
  {
   "cell_type": "markdown",
   "metadata": {},
   "source": [
    "### 2) Calculate the overall MSE for the following data at depth 1 of a regression tree assuming a decision threshold is taken at x=5.0. How does it compare with the MSE at the root? "
   ]
  },
  {
   "cell_type": "code",
   "execution_count": 1,
   "metadata": {},
   "outputs": [
    {
     "data": {
      "image/png": "[encoded data removed]",
      "text/plain": [
       "<Figure size 640x480 with 1 Axes>"
      ]
     },
     "metadata": {},
     "output_type": "display_data"
    },
    {
     "name": "stdout",
     "output_type": "stream",
     "text": [
      "Mean of all y values is : 2.9384615384615387\n",
      "MSE at root is :  1.2223668639053253\n",
      "Mean of y values at Depth 1 for x>5 is :  [3.85]\n",
      "MSE at Depth 1 for x>5 is : [0.59583333]\n"
     ]
    }
   ],
   "source": [
    "import numpy as np\n",
    "import numpy.matlib\n",
    "import matplotlib.pyplot as plt\n",
    "from sklearn.metrics import mean_squared_error as skmse\n",
    "\n",
    "#Root\n",
    "x = np.array([[1, 0.8, 2, 2.5, 3, 4, 4.2, 6, 6.3, 7, 8, 8.2, 9]]).T\n",
    "y = np.array([[2, 3,  2.5, 1,2.3,2.8,1.5, 2.6, 3.5, 4, 3.5, 5, 4.5 ]]).T\n",
    "\n",
    "linex = np.array([5, 5, 5, 5, 5, 5])\n",
    "liney = np.array([0, 1, 2, 3, 4, 5])\n",
    "plt.plot(x,y,'bx')\n",
    "#plt.plot(linex,liney,'r')\n",
    "plt.grid()\n",
    "plt.show()\n",
    "\n",
    "yave = np.mean(y)\n",
    "print (\"Mean of all y values is :\", yave)\n",
    "\n",
    "print(\"MSE at root is : \", skmse(np.matlib.repmat(yave,13,1), y))\n",
    "\n",
    "#Depth 1\n",
    "\n",
    "yave = sum(y*(x>5))/6\n",
    "print(\"Mean of y values at Depth 1 for x>5 is : \", sum(y*(x>5))/6)\n",
    "\n",
    "mse = sum((y-yave)*(y-yave)*(x>5))/6\n",
    "\n",
    "print(\"MSE at Depth 1 for x>5 is :\", mse)"
   ]
  }
 ],
 "metadata": {
  "kernelspec": {
   "display_name": "Python 3 (ipykernel)",
   "language": "python",
   "name": "python3"
  },
  "language_info": {
   "codemirror_mode": {
    "name": "ipython",
    "version": 3
   },
   "file_extension": ".py",
   "mimetype": "text/x-python",
   "name": "python",
   "nbconvert_exporter": "python",
   "pygments_lexer": "ipython3",
   "version": "3.10.4"
  }
 },
 "nbformat": 4,
 "nbformat_minor": 4
}
