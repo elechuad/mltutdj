{
 "cells": [
  {
   "cell_type": "markdown",
   "id": "38d88fce-4df9-4daf-ba0c-d94e6d544c9c",
   "metadata": {},
   "source": [
    "# EE2211 Tutorial 5\n",
    "\n",
    "### by Chua Dingjuan (Sep 2022)"
   ]
  },
  {
   "cell_type": "markdown",
   "id": "60d08d32-df84-4abd-8f6c-728a4d88a431",
   "metadata": {},
   "source": [
    "## Question 3(a) Python Codes"
   ]
  },
  {
   "cell_type": "code",
   "execution_count": null,
   "id": "fc512376-9dca-48c4-935e-11eeaf5e55db",
   "metadata": {},
   "outputs": [],
   "source": [
    "import numpy as np\n",
    "\n",
    "import matplotlib.pyplot as plt\n",
    "\n",
    "xdata = [[36],[28],[35],[39],[30],[30],[31],[38],[36],[38],[29],[26]]\n",
    "\n",
    "ydata = [[31],[29],[34],[35],[29],[30],[30],[38],[34],[33],[29],[26]]\n",
    "\n",
    "X= np.array(xdata)\n",
    "Y =np.array(ydata)"
   ]
  },
  {
   "cell_type": "code",
   "execution_count": null,
   "id": "8cd19641-6095-4bd9-895d-4580995fb74c",
   "metadata": {},
   "outputs": [],
   "source": [
    "#notice the double bracket / tuple input to the np.ones function\n",
    "bias = np.ones((len(xdata),1))\n",
    "\n",
    "#column_stack also possible\n",
    "X=np.hstack((bias,X))\n",
    "\n",
    "#solving for over-determined system (same as tut4q3)\n",
    "inv_XTX = np.linalg.inv(X.transpose().dot(X))\n",
    "pinv = inv_XTX.dot(X.transpose())    \n",
    "w = pinv.dot(Y)\n",
    "print(w)"
   ]
  },
  {
   "cell_type": "code",
   "execution_count": null,
   "id": "626a8996-20ff-4b72-a76f-7259934adaec",
   "metadata": {},
   "outputs": [],
   "source": [
    "#Creating the x and y to plot the regression line\n",
    "#xline = np.arange(np.min(xdata),np.max(xdata)+1)\n",
    "#yline = xline * w[1,0] + w[0,0]\n",
    "\n",
    "yline = X.dot(w)"
   ]
  },
  {
   "cell_type": "code",
   "execution_count": null,
   "id": "b5ae0216-405f-41fe-9d3e-23ea7d542970",
   "metadata": {},
   "outputs": [],
   "source": [
    "#Plotting the original data points as blue points\n",
    "plt.plot(xdata,ydata,'bo')\n",
    "\n",
    "plt.plot(xdata, yline, 'r')\n",
    "plt.xlabel('Students')\n",
    "plt.ylabel('Books')\n",
    "plt.grid()"
   ]
  },
  {
   "cell_type": "code",
   "execution_count": null,
   "id": "e982fe17-841d-449f-8233-97fef16879eb",
   "metadata": {},
   "outputs": [],
   "source": []
  }
 ],
 "metadata": {
  "kernelspec": {
   "display_name": "Python 3 (ipykernel)",
   "language": "python",
   "name": "python3"
  },
  "language_info": {
   "codemirror_mode": {
    "name": "ipython",
    "version": 3
   },
   "file_extension": ".py",
   "mimetype": "text/x-python",
   "name": "python",
   "nbconvert_exporter": "python",
   "pygments_lexer": "ipython3",
   "version": "3.9.6"
  }
 },
 "nbformat": 4,
 "nbformat_minor": 5
}
