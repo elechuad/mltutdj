{
 "cells": [
  {
   "cell_type": "markdown",
   "metadata": {},
   "source": [
    "# EE2211 Tutorial 6\n",
    "\n",
    "### by Chua Dingjuan (Sept 2022)"
   ]
  },
  {
   "cell_type": "markdown",
   "metadata": {},
   "source": [
    "## Question 4 Python Codes"
   ]
  },
  {
   "cell_type": "code",
   "execution_count": 1,
   "metadata": {},
   "outputs": [],
   "source": [
    "import numpy as np\n",
    "from numpy.linalg import inv "
   ]
  },
  {
   "cell_type": "code",
   "execution_count": 11,
   "metadata": {},
   "outputs": [
    {
     "name": "stdout",
     "output_type": "stream",
     "text": [
      "w is : \n",
      " [[ 0.33333333]\n",
      " [-1.11111111]]\n"
     ]
    }
   ],
   "source": [
    "#Creating x and y arrays\n",
    "x = np.array([[-1, 0, 0.5, 0.3, 0.8]]).T\n",
    "y = np.array([[1, 1, -1, 1, -1]]).T\n",
    "\n",
    "#Padding bias column of ones\n",
    "X = np.column_stack((np.ones(len(x)),x))\n",
    "\n",
    "#Solving for w (linear regression)\n",
    "w = inv(X.T @ X) @ X.T @ y \n",
    "\n",
    "print('w is : \\n', w)"
   ]
  },
  {
   "cell_type": "code",
   "execution_count": 10,
   "metadata": {},
   "outputs": [
    {
     "name": "stdout",
     "output_type": "stream",
     "text": [
      "Xtest is : \n",
      " [[ 1.  -0.1]\n",
      " [ 1.   0.4]]\n"
     ]
    }
   ],
   "source": [
    "#Creating x test matrices\n",
    "xtest = np.array([[-0.1, 0.4]]).T\n",
    "Xtest = np.column_stack((np.ones(len(xtest)),xtest))\n",
    "\n",
    "print('Xtest is : \\n', Xtest)"
   ]
  },
  {
   "cell_type": "code",
   "execution_count": 7,
   "metadata": {},
   "outputs": [
    {
     "name": "stdout",
     "output_type": "stream",
     "text": [
      "Raw predicted y values are :\n",
      " [[ 0.44444444]\n",
      " [-0.11111111]]\n",
      "Therefore predicted y output class is :\n",
      " [[ 1.]\n",
      " [-1.]]\n"
     ]
    }
   ],
   "source": [
    "#Calculating predictions\n",
    "y_predict = Xtest @ w\n",
    "\n",
    "y_predict_class = np.sign(y_predict)\n",
    "\n",
    "print('Raw predicted y values are :\\n', y_predict)\n",
    "print('Therefore predicted y output class is :\\n', y_predict_class)"
   ]
  }
 ],
 "metadata": {
  "kernelspec": {
   "display_name": "Python 3 (ipykernel)",
   "language": "python",
   "name": "python3"
  },
  "language_info": {
   "codemirror_mode": {
    "name": "ipython",
    "version": 3
   },
   "file_extension": ".py",
   "mimetype": "text/x-python",
   "name": "python",
   "nbconvert_exporter": "python",
   "pygments_lexer": "ipython3",
   "version": "3.10.4"
  }
 },
 "nbformat": 4,
 "nbformat_minor": 4
}
