{
 "cells": [
  {
   "cell_type": "markdown",
   "id": "331abb95-eaa0-4e36-ad38-d90b9a1dac2f",
   "metadata": {},
   "source": [
    "# EE2211 Tutorial 4 PREP\n",
    "\n",
    "### by Chua Dingjuan (Sep 2022)"
   ]
  },
  {
   "cell_type": "markdown",
   "id": "7447cb23-ab19-4806-a59e-33bb07e4e073",
   "metadata": {},
   "source": [
    "## Python Functions for Matrices and Manipulation\n",
    "#### Note that there are alternative ones, but these are the ones being discussed and used in tutorial 4. "
   ]
  },
  {
   "cell_type": "code",
   "execution_count": null,
   "id": "8da662ec-154a-4085-ac22-f247a75fca8b",
   "metadata": {},
   "outputs": [],
   "source": [
    "# Creating a list that resembles a 2 x 2 matrix\n",
    "\n",
    "simple = [[1,2], [3,4]]\n",
    "\n",
    "print(simple)\n",
    "print(type(simple))"
   ]
  },
  {
   "cell_type": "code",
   "execution_count": null,
   "id": "60f5f79a-330e-4a2e-b465-e5201f583558",
   "metadata": {},
   "outputs": [],
   "source": [
    "# The numpy library has many useful functions for matrix manipulations. \n",
    "# The numpy array variable type is a multidimensional array object that is a powerful  \n",
    "# data structure for efficient computation of arrays and matrices\n",
    "\n",
    "# Let's convert simple into a numpy array. \n",
    "\n",
    "import numpy as np\n",
    "\n",
    "simple_np = np.array(simple)\n",
    "\n",
    "# or simple_np = np.array([[1,1], [3,4]])\n",
    "\n",
    "\n",
    "print(simple_np)\n",
    "print(type(simple_np))\n",
    "# notice that it looks slightly different from how list is printed"
   ]
  },
  {
   "cell_type": "markdown",
   "id": "f4e0f7bc-5f72-420f-ad87-d081f597f4a8",
   "metadata": {},
   "source": [
    "## USEFUL Matrix Manipulations"
   ]
  },
  {
   "cell_type": "code",
   "execution_count": null,
   "id": "e7a8be47-3afa-4cb5-8c36-b22a2b3abb0b",
   "metadata": {},
   "outputs": [],
   "source": [
    "# Addition and Subtraction\n",
    "# np.add(A,B)\n",
    "# np.subtract(A,B)\n",
    "\n",
    "np.add(simple, simple)\n",
    "np.add(simple_np, simple_np)"
   ]
  },
  {
   "cell_type": "code",
   "execution_count": null,
   "id": "9a9ed63b-edf1-4d74-bee9-f7612b8f7585",
   "metadata": {},
   "outputs": [],
   "source": [
    "# Dot product\n",
    "# np.dot(A,B)\n",
    "# A.dot(B)\n",
    "# np.matmul(A,B)\n",
    "# A @ B - numpy arrays only\n",
    "# Please note np.multiply is NOT DOT PRODUCT. \n",
    "\n",
    "np.dot(simple,simple)\n",
    "np.dot(simple_np,simple_np)\n",
    "\n",
    "simple_np.dot(simple_np)\n",
    "\n",
    "np.matmul(simple,simple)\n",
    "np.matmul(simple_np,simple_np)\n",
    "\n",
    "simple_np @ simple_np\n",
    "#simple @ simple # --> Error"
   ]
  },
  {
   "cell_type": "code",
   "execution_count": null,
   "id": "23d84c78-e8bf-47d2-9405-505599f41ce8",
   "metadata": {},
   "outputs": [],
   "source": [
    "# Transpose\n",
    "# np.transpose() or tranpose() or  ().T\n",
    "\n",
    "simple_np.transpose()\n",
    "simple_np.T\n"
   ]
  },
  {
   "cell_type": "code",
   "execution_count": null,
   "id": "1aa0ea92-4376-4d9f-b747-c48ffc9b5257",
   "metadata": {},
   "outputs": [],
   "source": [
    "# Inverse\n",
    "# np.linalg.inv()\n",
    "\n",
    "np.linalg.inv(simple)\n",
    "np.linalg.inv(simple_np)"
   ]
  },
  {
   "cell_type": "code",
   "execution_count": null,
   "id": "4b655bd0-f263-4d20-8f5f-6a3b854202fe",
   "metadata": {},
   "outputs": [],
   "source": [
    "# Determinant\n",
    "# np.linalg.det()\n",
    "\n",
    "np.linalg.det(simple)\n",
    "np.linalg.det(simple_np)"
   ]
  },
  {
   "cell_type": "markdown",
   "id": "9a136941-afaa-43f8-9afc-32af17ec7c17",
   "metadata": {},
   "source": [
    "## Handy functions for Creating Specific Matrics"
   ]
  },
  {
   "cell_type": "code",
   "execution_count": null,
   "id": "b32c2dfb-6255-4802-8c5d-1315e3ad18fe",
   "metadata": {},
   "outputs": [],
   "source": [
    "# np.ones((#rows, #cols)) / np.full ((#rows, #cols),value)\n",
    "\n",
    "np.ones((2,3))\n"
   ]
  },
  {
   "cell_type": "code",
   "execution_count": null,
   "id": "6628ad53-9bd5-49fd-a41a-504e48867516",
   "metadata": {},
   "outputs": [],
   "source": [
    "# np.zeros((#rows, #cols))\n",
    "\n",
    "np.zeros((2,3))"
   ]
  },
  {
   "cell_type": "code",
   "execution_count": null,
   "id": "cf8412b2-1222-4bc9-9b1b-36f067e0620d",
   "metadata": {},
   "outputs": [],
   "source": [
    "# np.eye(#row) / np.identity(#row)\n",
    "\n",
    "np.identity(2)"
   ]
  },
  {
   "cell_type": "code",
   "execution_count": null,
   "id": "289a2c80-3bba-403a-901c-e316ba936763",
   "metadata": {},
   "outputs": [],
   "source": []
  }
 ],
 "metadata": {
  "kernelspec": {
   "display_name": "Python 3 (ipykernel)",
   "language": "python",
   "name": "python3"
  },
  "language_info": {
   "codemirror_mode": {
    "name": "ipython",
    "version": 3
   },
   "file_extension": ".py",
   "mimetype": "text/x-python",
   "name": "python",
   "nbconvert_exporter": "python",
   "pygments_lexer": "ipython3",
   "version": "3.9.6"
  }
 },
 "nbformat": 4,
 "nbformat_minor": 5
}
